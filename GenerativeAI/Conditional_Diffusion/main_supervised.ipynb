{
 "cells": [
  {
   "cell_type": "code",
   "execution_count": null,
   "metadata": {},
   "outputs": [],
   "source": [
    "from imports import *\n",
    "\n",
    "from model_supervised import UNet\n",
    "from data import LandscapeData\n",
    "from trainer_supervised import DiffussionTrainerSupervised\n",
    "from diffussion_supervised import Diffussion"
   ]
  },
  {
   "cell_type": "code",
   "execution_count": null,
   "metadata": {},
   "outputs": [],
   "source": []
  },
  {
   "cell_type": "code",
   "execution_count": null,
   "metadata": {},
   "outputs": [],
   "source": [
    "c_in = 3\n",
    "c_out = 3\n",
    "time_dim = 128\n",
    "lr = 3e-4\n",
    "max_epochs = 500\n",
    "batch_size = 16\n",
    "image_size = 64\n",
    "num_classes = 7\n",
    "cfg_scale = 3"
   ]
  },
  {
   "cell_type": "code",
   "execution_count": null,
   "metadata": {},
   "outputs": [],
   "source": []
  },
  {
   "cell_type": "code",
   "execution_count": null,
   "metadata": {
    "scrolled": true
   },
   "outputs": [],
   "source": [
    "data = LandscapeData(dataset_path=\"./archive\", image_size=image_size, batch_size=batch_size)"
   ]
  },
  {
   "cell_type": "code",
   "execution_count": null,
   "metadata": {},
   "outputs": [],
   "source": [
    "diffusion = Diffussion(cfg_scale)\n",
    "model = UNet(c_in=c_in, c_out=c_out, num_classes=num_classes, lr=lr, time_dim=time_dim)"
   ]
  },
  {
   "cell_type": "code",
   "execution_count": null,
   "metadata": {},
   "outputs": [],
   "source": [
    "trainer = DiffussionTrainerSupervised(max_epochs=max_epochs)"
   ]
  }
 ],
 "metadata": {
  "kernelspec": {
   "display_name": "d2l",
   "language": "python",
   "name": "d2l"
  },
  "language_info": {
   "codemirror_mode": {
    "name": "ipython",
    "version": 3
   },
   "file_extension": ".py",
   "mimetype": "text/x-python",
   "name": "python",
   "nbconvert_exporter": "python",
   "pygments_lexer": "ipython3",
   "version": "3.9.18"
  }
 },
 "nbformat": 4,
 "nbformat_minor": 2
}

{
 "cells": [
  {
   "cell_type": "code",
   "execution_count": null,
   "metadata": {},
   "outputs": [],
   "source": [
    "from imports import *\n",
    "\n",
    "from model import UNet\n",
    "from data import LandscapeData\n",
    "from trainer import DiffussionTrainer\n",
    "from diffussion import Diffussion"
   ]
  },
  {
   "cell_type": "code",
   "execution_count": null,
   "metadata": {},
   "outputs": [],
   "source": [
    "c_in = 3\n",
    "c_out = 3\n",
    "time_dim = 128\n",
    "lr = 0.001\n",
    "max_epochs = 1\n",
    "batch_size = 3\n",
    "image_size = 64"
   ]
  },
  {
   "cell_type": "code",
   "execution_count": null,
   "metadata": {},
   "outputs": [],
   "source": [
    "data = LandscapeData(dataset_path=\"archive\", image_size=image_size, batch_size=batch_size)"
   ]
  },
  {
   "cell_type": "code",
   "execution_count": null,
   "metadata": {},
   "outputs": [],
   "source": [
    "diffusion = Diffussion()\n",
    "model = UNet(c_in=c_in, c_out=c_out, lr=lr, time_dim=time_dim)"
   ]
  },
  {
   "cell_type": "code",
   "execution_count": null,
   "metadata": {},
   "outputs": [],
   "source": [
    "trainer = DiffussionTrainer(max_epochs=max_epochs)"
   ]
  },
  {
   "cell_type": "code",
   "execution_count": null,
   "metadata": {},
   "outputs": [],
   "source": [
    "# self.inc = DoubleConv(c_in, 64)\n",
    "# self.down1 = Down(64, 128) # (input output)\n",
    "# self.sa1 = SelfAttention(128, 32) # (chanel dimension, image resolution)\n",
    "# self.down2 = Down(128, 256)\n",
    "# self.sa2 = SelfAttention(256, 16)\n",
    "# self.down3 = Down(256, 256)\n",
    "# self.sa3 = SelfAttention(256, 8)\n",
    "\n",
    "\n",
    "# self.bot1 = DoubleConv(256, 512)\n",
    "# self.bot2 = DoubleConv(512, 512)\n",
    "# self.bot3 = DoubleConv(512, 256)"
   ]
  },
  {
   "cell_type": "code",
   "execution_count": null,
   "metadata": {},
   "outputs": [],
   "source": [
    "trainer.fit(data=data, model=model, diffusion=diffusion)"
   ]
  },
  {
   "cell_type": "code",
   "execution_count": null,
   "metadata": {},
   "outputs": [],
   "source": []
  },
  {
   "cell_type": "code",
   "execution_count": null,
   "metadata": {},
   "outputs": [],
   "source": []
  }
 ],
 "metadata": {
  "kernelspec": {
   "display_name": "Python 3",
   "language": "python",
   "name": "python3"
  },
  "language_info": {
   "codemirror_mode": {
    "name": "ipython",
    "version": 3
   },
   "file_extension": ".py",
   "mimetype": "text/x-python",
   "name": "python",
   "nbconvert_exporter": "python",
   "pygments_lexer": "ipython3",
   "version": "3.9.16"
  }
 },
 "nbformat": 4,
 "nbformat_minor": 2
}
